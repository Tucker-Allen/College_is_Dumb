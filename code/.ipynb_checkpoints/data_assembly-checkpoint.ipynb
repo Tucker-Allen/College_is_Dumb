{
 "cells": [
  {
   "cell_type": "code",
   "execution_count": null,
   "metadata": {
    "collapsed": true
   },
   "outputs": [],
   "source": [
    "# Goal: Let's forecast when College will no longer be a worthwhile investment!"
   ]
  },
  {
   "cell_type": "code",
   "execution_count": 42,
   "metadata": {
    "collapsed": true
   },
   "outputs": [],
   "source": [
    "# My API Key\n",
    "# api_key=2WELGSTK4bPqx8bOadxd5ljVOvvoqb62QvDGS5rf\n",
    "# Example:\n",
    "# https://developer.nrel.gov/api/alt-fuel-stations/v1/nearest.json?api_key=2WELGSTK4bPqx8bOadxd5ljVOvvoqb62QvDGS5rf&location=Denver+CO"
   ]
  },
  {
   "cell_type": "code",
   "execution_count": 43,
   "metadata": {
    "collapsed": true
   },
   "outputs": [],
   "source": [
    "# https://api.data.gov/ed/collegescorecard/v1/schools?"
   ]
  },
  {
   "cell_type": "code",
   "execution_count": 2,
   "metadata": {
    "collapsed": true
   },
   "outputs": [],
   "source": [
    "import requests\n",
    "import pandas as pd\n",
    "import numpy as np\n",
    "import time\n",
    "\n",
    "from collections import Counter"
   ]
  },
  {
   "cell_type": "code",
   "execution_count": 3,
   "metadata": {
    "collapsed": true
   },
   "outputs": [],
   "source": [
    "base_url = 'https://api.data.gov/ed/collegescorecard/v1/schools?'\n",
    "key = 'api_key=2WELGSTK4bPqx8bOadxd5ljVOvvoqb62QvDGS5rf'"
   ]
  },
  {
   "cell_type": "code",
   "execution_count": 4,
   "metadata": {
    "collapsed": true
   },
   "outputs": [],
   "source": [
    "# 7593 schools\n",
    "# = 380 pages @ 20 results per page"
   ]
  },
  {
   "cell_type": "code",
   "execution_count": 5,
   "metadata": {
    "collapsed": true
   },
   "outputs": [],
   "source": [
    "years = np.arange(1996, 2016, 1)\n",
    "pages = np.arange(0,381,1)"
   ]
  },
  {
   "cell_type": "code",
   "execution_count": 6,
   "metadata": {
    "collapsed": true
   },
   "outputs": [],
   "source": [
    "root_fields = ['id']\n",
    "\n",
    "# school.field\n",
    "school_fields = ['name',\n",
    "                 'state',\n",
    "                 'degrees_awarded.predominant', # 0 to 4, with 4 being graduate degree\n",
    "                 'under_investigation', # 1 for yes, 0 for no\n",
    "                 'main_campus', # 1 for yes, 0 for no\n",
    "                 'branches', # number of branch campuses\n",
    "                 'degrees_awarded.highest', # 0 to 4\n",
    "                 'ownership', # 1, 2 or 3 for public, private non-proft, private for-profit\n",
    "                 'locale', # categorical of city\n",
    "                 'carnegie_basic', # categorical of type\n",
    "                 'carnegie_undergrad', # categorical of enrollment\n",
    "                 'carnegie_size_setting', # categorical of size and setting\n",
    "                 'online_only', # 1 for online only, 0 for otherwise\n",
    "                 'operating', # 1 for operating, 0 for closed\n",
    "                 'tuition_revenue_per_fte', # Net revenue per student\n",
    "                 'instructional_expenditure_per_fte', # Net expenditure per student\n",
    "                 'faculty_salary', # Average faculty salary\n",
    "                 'ft_faculty_rate', # Proportion of faculty that is full-time\n",
    "                 'institutional_characteristics.level' # 1, 2 or 3 for 4-year, 2-year, less than 2-year\n",
    "                ]\n",
    "\n",
    "# \"year\".admissions.field\n",
    "admissions_fields = ['admission_rate.overall' # overall admission rate\n",
    "                   ]\n",
    "\n",
    "# Had to trim these, \"414 Request-URI Too Large\"\n",
    "# \"year\".student.field\n",
    "student_fields = ['size', # Total size (excluding 2001)\n",
    "                  #'enrollment.all', # Total size (2001)\n",
    "                  'share_lowincome.0_30000', # Average\n",
    "                  'share_middleincome.30001_48000',\n",
    "                  'share_middleincome.48001_75000',\n",
    "                  'share_highincome.75001_110000',\n",
    "                  'share_highincome.110001plus',\n",
    "                  #'demographics.avg_family_income', # In 2015 dollars\n",
    "                  #'demographics.median_family_income', # In 2015 dollars\n",
    "                  #'demographics.median_hh_income',\n",
    "                  'undergrads_with_pell_grant_or_federal_student_loan', # total number of\n",
    "                 ]\n",
    "\n",
    "# Had to trim these, \"414 Request-URI Too Large\"\n",
    "# \"year\".cost.field\n",
    "cost_fields = [#'avg_net_price.public', \n",
    "               #'avg_net_price.private',\n",
    "               'net_price.public.by_income_level.0-30000', # Average cost AFTER scholarships/aid\n",
    "               #'net_price.public.by_income_level.30001-48000',\n",
    "               'net_price.public.by_income_level.48001-75000',\n",
    "               #'net_price.public.by_income_level.75001-110000',\n",
    "               'net_price.public.by_income_level.110001-plus',\n",
    "               'net_price.private.by_income_level.0-30000',\n",
    "               #'net_price.private.by_income_level.30001-48000',\n",
    "               'net_price.private.by_income_level.48001-75000',\n",
    "               #'net_price.private.by_income_level.75001-110000',\n",
    "               'net_price.private.by_income_level.110001-plus',\n",
    "               #'title_iv.public.all', # Total number of students on title iv aid\n",
    "               #'title_iv.private.all',\n",
    "               #'title_iv.public.by_income_level.0-30000',\n",
    "               #'title_iv.public.by_income_level.30001-48000',\n",
    "               #'title_iv.public.by_income_level.48001-75000',\n",
    "               #'title_iv.public.by_income_level.75001-110000',\n",
    "               #'title_iv.public.by_income_level.110001-plus',\n",
    "               #'title_iv.private.by_income_level.0-30000',\n",
    "               #'title_iv.private.by_income_level.30001-48000',\n",
    "               #'title_iv.private.by_income_level.48001-75000',\n",
    "               #'title_iv.private.by_income_level.75001-110000',\n",
    "               #'title_iv.private.by_income_level.110001-plus',\n",
    "               #'attendance.academic_year', # Average cost\n",
    "               #'attendance.program_year', # Average cost\n",
    "               #'tuition.in_state',\n",
    "               #'tuition.out_of_state',\n",
    "               #'tuition.program_year'\n",
    "                ]\n",
    "\n",
    "# Had to trim these, \"414 Request-URI Too Large\"\n",
    "# \"year\".aid.field                \n",
    "aid_fields = [#'pell_grant_rate', # percent of all receiving federal aid\n",
    "              #'federal_loan_rate', # percent of all undergrads receiving federal aid\n",
    "              'loan_principal', # median amount of loan principal\n",
    "              'median_debt.completers.overall',\n",
    "              'median_debt.noncompleters',\n",
    "              #'median_debt.income.0_30000',\n",
    "              #'median_debt.income.30001_75000',\n",
    "              #'median_debt.income.greater_than_75000',\n",
    "              #'median_debt.number.overall', # Total number of students in median debt calc\n",
    "              #'median_debt.number.income.0_30000', \n",
    "              #'median_debt.number.income.30001_75000',\n",
    "              #'median_debt.number.income.greater_than_75000',\n",
    "              #'median_debt.completers.monthly_payments',\n",
    "              #'cumulative_debt.number', # Total number of students in cumulative debt calc\n",
    "              'cumulative_debt.90th_percentile', # Cumulative debt\n",
    "              'cumulative_debt.75th_percentile',\n",
    "              'cumulative_debt.25th_percentile',\n",
    "              'cumulative_debt.10th_percentile',\n",
    "              #'students_with_any_loan', # percentage of students with any debt\n",
    "              #'median_debt_suppressed.overall'\n",
    "            ]\n",
    "\n",
    "# \"year\".repayment.field\n",
    "repayment_fields = [#'2_yr_default_rate',\n",
    "                    #'3_yr_default_rate',\n",
    "                    \n",
    "                    #'repayment_cohort.1_year_declining_balance' # All rates\n",
    "                    #'1_yr_repayment.completers_rate',\n",
    "                    #'1_yr_repayment.noncompleters_rate',\n",
    "                    #'1_yr_repayment.income.0_30000',\n",
    "                    #'1_yr_repayment.income.30000_75000',\n",
    "                    #'1_yr_repayment.income.greater_than_75000',\n",
    "                    \n",
    "                    'repayment_cohort.3_year_declining_balance',\n",
    "                    '3_yr_repayment.completers_rate',\n",
    "                    '3_yr_repayment.noncompleters_rate',\n",
    "                    #'3_yr_repayment.income.0_30000',\n",
    "                    #'3_yr_repayment.income.30000_75000',\n",
    "                    #'3_yr_repayment.income.greater_than_75000',\n",
    "                    \n",
    "                    #'repayment_cohort.5_year_declining_balance'\n",
    "                    #'5_yr_repayment.completers_rate',\n",
    "                    #'5_yr_repayment.noncompleters_rate',\n",
    "                    #'5_yr_repayment.income.0_30000',\n",
    "                    #'5_yr_repayment.income.30000_75000',\n",
    "                    #'5_yr_repayment.income.greater_than_75000',\n",
    "                    \n",
    "                    'repayment_cohort.7_year_declining_balance',\n",
    "                    '7_yr_repayment.completers_rate',\n",
    "                    '7_yr_repayment.noncompleters_rate',\n",
    "                    #'7_yr_repayment.income.0_30000',\n",
    "                    #'7_yr_repayment.income.30000_75000',\n",
    "                    #'7_yr_repayment.income.greater_than_75000',\n",
    "                   ]\n",
    "\n",
    "# \"year\".earnings.field\n",
    "earnings_fields = ['10_yrs_after_entry.not_working_not_enrolled.overall', # Total number of students\n",
    "                   '10_yrs_after_entry.working_not_enrolled.mean_earnings',\n",
    "                   '10_yrs_after_entry.median', # Median of above\n",
    "                   '10_yrs_after_entry.mean_earnings.lowest_tercile',\n",
    "                   '10_yrs_after_entry.mean_earnings.middle_tercile',\n",
    "                   '10_yrs_after_entry.mean_earnings.highest_tercile']"
   ]
  },
  {
   "cell_type": "code",
   "execution_count": 7,
   "metadata": {
    "collapsed": true
   },
   "outputs": [],
   "source": [
    "# ONLY RUN THIS ONCE AFTER PREVIOUS!!!\n",
    "\n",
    "fields_list1 = []\n",
    "for i in school_fields:\n",
    "    fields_list1.append('school.'+i)\n",
    "school_fields = ','.join(fields_list1)\n",
    "\n",
    "fields_list2 = []\n",
    "for year in years:\n",
    "    fields_list2.append(str(year) + '.admissions.'+ admissions_fields[0])\n",
    "admissions_fields = ','.join(fields_list2)\n",
    "\n",
    "\n",
    "fields_list3 = []\n",
    "for year in years:\n",
    "    for field in student_fields:\n",
    "        fields_list3.append(str(year) + '.student.'+ field)\n",
    "student_fields = ','.join(fields_list3)\n",
    "\n",
    "fields_list4 = []\n",
    "for year in years:\n",
    "    for field in cost_fields:\n",
    "        fields_list4.append(str(year) + '.cost.'+ field)\n",
    "cost_fields = ','.join(fields_list4)\n",
    "\n",
    "fields_list5 = []\n",
    "for year in years:\n",
    "    for field in aid_fields:\n",
    "        fields_list5.append(str(year) + '.aid.'+ field)\n",
    "aid_fields = ','.join(fields_list5)\n",
    "\n",
    "fields_list6 = []\n",
    "for year in years:\n",
    "    for field in repayment_fields:\n",
    "        fields_list6.append(str(year) + '.repayment.'+ field)\n",
    "repayment_fields = ','.join(fields_list6)\n",
    "\n",
    "fields_list7 = []\n",
    "for year in years:\n",
    "    for field in earnings_fields:\n",
    "        fields_list7.append(str(year) + '.earnings.'+ field)\n",
    "earnings_fields = ','.join(fields_list7)"
   ]
  },
  {
   "cell_type": "markdown",
   "metadata": {},
   "source": [
    "## Basic School Info"
   ]
  },
  {
   "cell_type": "code",
   "execution_count": 7,
   "metadata": {
    "scrolled": true
   },
   "outputs": [
    {
     "name": "stdout",
     "output_type": "stream",
     "text": [
      "parsing page... 0\n",
      "parsing page... 10\n",
      "parsing page... 20\n",
      "parsing page... 30\n",
      "parsing page... 40\n",
      "parsing page... 50\n",
      "parsing page... 60\n",
      "parsing page... 70\n",
      "parsing page... 80\n",
      "parsing page... 90\n",
      "parsing page... 100\n",
      "parsing page... 110\n",
      "parsing page... 120\n",
      "parsing page... 130\n",
      "parsing page... 140\n",
      "parsing page... 150\n",
      "parsing page... 160\n",
      "parsing page... 170\n",
      "parsing page... 180\n",
      "parsing page... 190\n",
      "parsing page... 200\n",
      "parsing page... 210\n",
      "parsing page... 220\n",
      "parsing page... 230\n",
      "parsing page... 240\n",
      "parsing page... 250\n",
      "parsing page... 260\n",
      "parsing page... 270\n",
      "parsing page... 280\n",
      "parsing page... 290\n",
      "parsing page... 300\n",
      "parsing page... 310\n",
      "parsing page... 320\n",
      "parsing page... 330\n",
      "parsing page... 340\n",
      "parsing page... 350\n",
      "parsing page... 360\n",
      "parsing page... 370\n",
      "parsing page... 380\n"
     ]
    }
   ],
   "source": [
    "# Basic school dataframe\n",
    "\n",
    "school_df = pd.DataFrame(columns=fields_list1)\n",
    "for page in pages:\n",
    "    if page % 10 == 0:\n",
    "        print('parsing page...', page)\n",
    "    URL = base_url + '_fields=id,' + school_fields + '&' + key + '&' + '_page=' + str(page)\n",
    "    response = requests.get(URL)\n",
    "    json_results = response.json()\n",
    "    this_df = pd.DataFrame(json_results['results'])\n",
    "    school_df = pd.concat([school_df,this_df])\n",
    "    time.sleep(1)"
   ]
  },
  {
   "cell_type": "code",
   "execution_count": 8,
   "metadata": {},
   "outputs": [
    {
     "data": {
      "text/plain": [
       "id                                               0\n",
       "school.branches                                  0\n",
       "school.carnegie_basic                          446\n",
       "school.carnegie_size_setting                   446\n",
       "school.carnegie_undergrad                      446\n",
       "school.degrees_awarded.highest                   0\n",
       "school.degrees_awarded.predominant               0\n",
       "school.faculty_salary                         3139\n",
       "school.ft_faculty_rate                        3656\n",
       "school.institutional_characteristics.level       0\n",
       "school.instructional_expenditure_per_fte       460\n",
       "school.locale                                  446\n",
       "school.main_campus                               0\n",
       "school.name                                      0\n",
       "school.online_only                             446\n",
       "school.operating                                 0\n",
       "school.ownership                                 0\n",
       "school.state                                     0\n",
       "school.tuition_revenue_per_fte                 460\n",
       "school.under_investigation                       0\n",
       "dtype: int64"
      ]
     },
     "execution_count": 8,
     "metadata": {},
     "output_type": "execute_result"
    }
   ],
   "source": [
    "school_df.isnull().sum()"
   ]
  },
  {
   "cell_type": "code",
   "execution_count": 11,
   "metadata": {
    "collapsed": true
   },
   "outputs": [],
   "source": [
    "school_df.to_csv('../data/school_df.csv')"
   ]
  },
  {
   "cell_type": "code",
   "execution_count": 46,
   "metadata": {},
   "outputs": [
    {
     "data": {
      "text/plain": [
       "Counter({0: 7523, 1: 70})"
      ]
     },
     "execution_count": 46,
     "metadata": {},
     "output_type": "execute_result"
    }
   ],
   "source": [
    "Counter(school_df['school.under_investigation'])"
   ]
  },
  {
   "cell_type": "markdown",
   "metadata": {},
   "source": [
    "## Admission Rate Info"
   ]
  },
  {
   "cell_type": "code",
   "execution_count": 64,
   "metadata": {
    "scrolled": true
   },
   "outputs": [
    {
     "name": "stdout",
     "output_type": "stream",
     "text": [
      "parsing page... 0\n",
      "parsing page... 10\n",
      "parsing page... 20\n",
      "parsing page... 30\n",
      "parsing page... 40\n",
      "parsing page... 50\n",
      "parsing page... 60\n",
      "parsing page... 70\n",
      "parsing page... 80\n",
      "parsing page... 90\n",
      "parsing page... 100\n",
      "parsing page... 110\n",
      "parsing page... 120\n",
      "parsing page... 130\n",
      "parsing page... 140\n",
      "parsing page... 150\n",
      "parsing page... 160\n",
      "parsing page... 170\n",
      "parsing page... 180\n",
      "parsing page... 190\n",
      "parsing page... 200\n",
      "parsing page... 210\n",
      "parsing page... 220\n",
      "parsing page... 230\n",
      "parsing page... 240\n",
      "parsing page... 250\n",
      "parsing page... 260\n",
      "parsing page... 270\n",
      "parsing page... 280\n",
      "parsing page... 290\n",
      "parsing page... 300\n",
      "parsing page... 310\n",
      "parsing page... 320\n",
      "parsing page... 330\n",
      "parsing page... 340\n",
      "parsing page... 350\n",
      "parsing page... 360\n",
      "parsing page... 370\n",
      "parsing page... 380\n"
     ]
    }
   ],
   "source": [
    "admissions_df = pd.DataFrame(columns=fields_list2)\n",
    "for page in pages:\n",
    "    if page % 10 == 0:\n",
    "        print('parsing page...', page)\n",
    "    URL = base_url + '_fields=school.name,' + admissions_fields + '&' + key + '&' + '_page=' + str(page)\n",
    "    response = requests.get(URL)\n",
    "    json_results = response.json()\n",
    "    this_df = pd.DataFrame(json_results['results'])\n",
    "    admissions_df = pd.concat([admissions_df,this_df])\n",
    "    time.sleep(1)"
   ]
  },
  {
   "cell_type": "code",
   "execution_count": 66,
   "metadata": {
    "scrolled": true
   },
   "outputs": [
    {
     "data": {
      "text/plain": [
       "1996.admissions.admission_rate.overall    7593\n",
       "1997.admissions.admission_rate.overall    7593\n",
       "1998.admissions.admission_rate.overall    7593\n",
       "1999.admissions.admission_rate.overall    7593\n",
       "2000.admissions.admission_rate.overall    7593\n",
       "2001.admissions.admission_rate.overall    5473\n",
       "2002.admissions.admission_rate.overall    5200\n",
       "2003.admissions.admission_rate.overall    5166\n",
       "2004.admissions.admission_rate.overall    5197\n",
       "2005.admissions.admission_rate.overall    5156\n",
       "2006.admissions.admission_rate.overall    5094\n",
       "2007.admissions.admission_rate.overall    5074\n",
       "2008.admissions.admission_rate.overall    5076\n",
       "2009.admissions.admission_rate.overall    5054\n",
       "2010.admissions.admission_rate.overall    5420\n",
       "2011.admissions.admission_rate.overall    5379\n",
       "2012.admissions.admission_rate.overall    5401\n",
       "2013.admissions.admission_rate.overall    5414\n",
       "2014.admissions.admission_rate.overall    5419\n",
       "2015.admissions.admission_rate.overall    5422\n",
       "school.name                                  0\n",
       "dtype: int64"
      ]
     },
     "execution_count": 66,
     "metadata": {},
     "output_type": "execute_result"
    }
   ],
   "source": [
    "admissions_df.isnull().sum()"
   ]
  },
  {
   "cell_type": "code",
   "execution_count": 67,
   "metadata": {
    "collapsed": true
   },
   "outputs": [],
   "source": [
    "# Let's drop those 5 years (1996-2000) that have no values\n",
    "admissions_df.drop(['1996.admissions.admission_rate.overall',\n",
    "                    '1997.admissions.admission_rate.overall',\n",
    "                    '1998.admissions.admission_rate.overall',\n",
    "                    '1999.admissions.admission_rate.overall',\n",
    "                    '2000.admissions.admission_rate.overall'], axis=1, inplace=True)"
   ]
  },
  {
   "cell_type": "code",
   "execution_count": 77,
   "metadata": {},
   "outputs": [
    {
     "data": {
      "text/plain": [
       "0.7134"
      ]
     },
     "execution_count": 77,
     "metadata": {},
     "output_type": "execute_result"
    }
   ],
   "source": [
    "admissions_df['2015.admissions.admission_rate.overall'].median()"
   ]
  },
  {
   "cell_type": "code",
   "execution_count": 78,
   "metadata": {
    "collapsed": true
   },
   "outputs": [],
   "source": [
    "admissions_df.to_csv('./admissions_df.csv')"
   ]
  },
  {
   "cell_type": "code",
   "execution_count": 96,
   "metadata": {},
   "outputs": [
    {
     "data": {
      "text/plain": [
       "116380"
      ]
     },
     "execution_count": 96,
     "metadata": {},
     "output_type": "execute_result"
    }
   ],
   "source": [
    "len(fields_list3)"
   ]
  },
  {
   "cell_type": "markdown",
   "metadata": {},
   "source": [
    "## Student Info"
   ]
  },
  {
   "cell_type": "code",
   "execution_count": 11,
   "metadata": {
    "scrolled": true
   },
   "outputs": [
    {
     "name": "stdout",
     "output_type": "stream",
     "text": [
      "parsing page... 0\n",
      "parsing page... 10\n",
      "parsing page... 20\n",
      "parsing page... 30\n",
      "parsing page... 40\n",
      "parsing page... 50\n",
      "parsing page... 60\n",
      "parsing page... 70\n",
      "parsing page... 80\n",
      "parsing page... 90\n",
      "parsing page... 100\n",
      "parsing page... 110\n",
      "parsing page... 120\n",
      "parsing page... 130\n",
      "parsing page... 140\n",
      "parsing page... 150\n",
      "parsing page... 160\n",
      "parsing page... 170\n",
      "parsing page... 180\n",
      "parsing page... 190\n",
      "parsing page... 200\n",
      "parsing page... 210\n",
      "parsing page... 220\n",
      "parsing page... 230\n",
      "parsing page... 240\n",
      "parsing page... 250\n",
      "parsing page... 260\n",
      "parsing page... 270\n",
      "parsing page... 280\n",
      "parsing page... 290\n",
      "parsing page... 300\n",
      "parsing page... 310\n",
      "parsing page... 320\n",
      "parsing page... 330\n",
      "parsing page... 340\n",
      "parsing page... 350\n",
      "parsing page... 360\n",
      "parsing page... 370\n",
      "parsing page... 380\n"
     ]
    }
   ],
   "source": [
    "student_df = pd.DataFrame(columns=fields_list3)\n",
    "for page in pages:\n",
    "    if page % 10 == 0:\n",
    "        print('parsing page...', page)\n",
    "    URL = base_url + '_fields=id,school.name,' + student_fields + '&' + key + '&' + '_page=' + str(page)\n",
    "    response = requests.get(URL)\n",
    "    json_results = response.json()\n",
    "    this_df = pd.DataFrame(json_results['results'])\n",
    "    student_df = pd.concat([student_df,this_df])\n",
    "    time.sleep(1)"
   ]
  },
  {
   "cell_type": "code",
   "execution_count": 12,
   "metadata": {
    "scrolled": true
   },
   "outputs": [
    {
     "data": {
      "text/plain": [
       "1996.student.share_highincome.110001plus                           7593\n",
       "1996.student.share_highincome.75001_110000                         7593\n",
       "1996.student.share_lowincome.0_30000                               7593\n",
       "1996.student.share_middleincome.30001_48000                        7593\n",
       "1996.student.share_middleincome.48001_75000                        7593\n",
       "1996.student.size                                                  3203\n",
       "1996.student.undergrads_with_pell_grant_or_federal_student_loan    7593\n",
       "1997.student.share_highincome.110001plus                           5056\n",
       "1997.student.share_highincome.75001_110000                         4997\n",
       "1997.student.share_lowincome.0_30000                               3390\n",
       "1997.student.share_middleincome.30001_48000                        3951\n",
       "1997.student.share_middleincome.48001_75000                        4353\n",
       "1997.student.size                                                  3026\n",
       "1997.student.undergrads_with_pell_grant_or_federal_student_loan    7593\n",
       "1998.student.share_highincome.110001plus                           4995\n",
       "1998.student.share_highincome.75001_110000                         4940\n",
       "1998.student.share_lowincome.0_30000                               3317\n",
       "1998.student.share_middleincome.30001_48000                        3873\n",
       "1998.student.share_middleincome.48001_75000                        4281\n",
       "1998.student.size                                                  3039\n",
       "1998.student.undergrads_with_pell_grant_or_federal_student_loan    7593\n",
       "1999.student.share_highincome.110001plus                           4903\n",
       "1999.student.share_highincome.75001_110000                         4834\n",
       "1999.student.share_lowincome.0_30000                               3212\n",
       "1999.student.share_middleincome.30001_48000                        3770\n",
       "1999.student.share_middleincome.48001_75000                        4207\n",
       "1999.student.size                                                  2977\n",
       "1999.student.undergrads_with_pell_grant_or_federal_student_loan    7593\n",
       "2000.student.share_highincome.110001plus                           4780\n",
       "2000.student.share_highincome.75001_110000                         4744\n",
       "                                                                   ... \n",
       "2012.student.share_highincome.110001plus                           2949\n",
       "2012.student.share_highincome.75001_110000                         2922\n",
       "2012.student.share_lowincome.0_30000                               1075\n",
       "2012.student.share_middleincome.30001_48000                        1680\n",
       "2012.student.share_middleincome.48001_75000                        2220\n",
       "2012.student.size                                                  1203\n",
       "2012.student.undergrads_with_pell_grant_or_federal_student_loan    1229\n",
       "2013.student.share_highincome.110001plus                           2848\n",
       "2013.student.share_highincome.75001_110000                         2827\n",
       "2013.student.share_lowincome.0_30000                                930\n",
       "2013.student.share_middleincome.30001_48000                        1565\n",
       "2013.student.share_middleincome.48001_75000                        2106\n",
       "2013.student.size                                                  1034\n",
       "2013.student.undergrads_with_pell_grant_or_federal_student_loan    1053\n",
       "2014.student.share_highincome.110001plus                           2820\n",
       "2014.student.share_highincome.75001_110000                         2796\n",
       "2014.student.share_lowincome.0_30000                                801\n",
       "2014.student.share_middleincome.30001_48000                        1463\n",
       "2014.student.share_middleincome.48001_75000                        2074\n",
       "2014.student.size                                                   890\n",
       "2014.student.undergrads_with_pell_grant_or_federal_student_loan     902\n",
       "2015.student.share_highincome.110001plus                           2810\n",
       "2015.student.share_highincome.75001_110000                         2760\n",
       "2015.student.share_lowincome.0_30000                                717\n",
       "2015.student.share_middleincome.30001_48000                        1374\n",
       "2015.student.share_middleincome.48001_75000                        2073\n",
       "2015.student.size                                                   735\n",
       "2015.student.undergrads_with_pell_grant_or_federal_student_loan     758\n",
       "id                                                                    0\n",
       "school.name                                                           0\n",
       "Length: 142, dtype: int64"
      ]
     },
     "execution_count": 12,
     "metadata": {},
     "output_type": "execute_result"
    }
   ],
   "source": [
    "student_df.isnull().sum()"
   ]
  },
  {
   "cell_type": "code",
   "execution_count": 13,
   "metadata": {
    "collapsed": true
   },
   "outputs": [],
   "source": [
    "# 1996 is Null\n",
    "student_drop_cols = student_df.columns[0:6]\n",
    "student_df.drop(student_drop_cols, axis=1, inplace=True)"
   ]
  },
  {
   "cell_type": "code",
   "execution_count": 15,
   "metadata": {
    "collapsed": true
   },
   "outputs": [],
   "source": [
    "student_df.to_csv('../data/student_df.csv')"
   ]
  },
  {
   "cell_type": "markdown",
   "metadata": {},
   "source": [
    "## Cost Info"
   ]
  },
  {
   "cell_type": "code",
   "execution_count": 8,
   "metadata": {
    "scrolled": true
   },
   "outputs": [
    {
     "name": "stdout",
     "output_type": "stream",
     "text": [
      "parsing page... 0\n",
      "parsing page... 10\n",
      "parsing page... 20\n",
      "parsing page... 30\n",
      "parsing page... 40\n",
      "parsing page... 50\n",
      "parsing page... 60\n",
      "parsing page... 70\n",
      "parsing page... 80\n",
      "parsing page... 90\n",
      "parsing page... 100\n",
      "parsing page... 110\n",
      "parsing page... 120\n",
      "parsing page... 130\n",
      "parsing page... 140\n",
      "parsing page... 150\n",
      "parsing page... 160\n",
      "parsing page... 170\n",
      "parsing page... 180\n",
      "parsing page... 190\n",
      "parsing page... 200\n",
      "parsing page... 210\n",
      "parsing page... 220\n",
      "parsing page... 230\n",
      "parsing page... 240\n",
      "parsing page... 250\n",
      "parsing page... 260\n",
      "parsing page... 270\n",
      "parsing page... 280\n",
      "parsing page... 290\n",
      "parsing page... 300\n",
      "parsing page... 310\n",
      "parsing page... 320\n",
      "parsing page... 330\n",
      "parsing page... 340\n",
      "parsing page... 350\n",
      "parsing page... 360\n",
      "parsing page... 370\n",
      "parsing page... 380\n"
     ]
    }
   ],
   "source": [
    "cost_df = pd.DataFrame(columns=fields_list4)\n",
    "for page in pages:\n",
    "    if page % 10 == 0:\n",
    "        print('parsing page...', page)\n",
    "    URL = base_url + '_fields=id,school.ownership,' + cost_fields + '&' + key + '&' + '_page=' + str(page)\n",
    "    response = requests.get(URL)\n",
    "    json_results = response.json()\n",
    "    this_df = pd.DataFrame(json_results['results'])\n",
    "    cost_df = pd.concat([cost_df,this_df])\n",
    "    time.sleep(1)"
   ]
  },
  {
   "cell_type": "code",
   "execution_count": 13,
   "metadata": {},
   "outputs": [
    {
     "data": {
      "text/plain": [
       "[7593,\n",
       " 7593,\n",
       " 7593,\n",
       " 7593,\n",
       " 7593,\n",
       " 7593,\n",
       " 7593,\n",
       " 7593,\n",
       " 7593,\n",
       " 7593,\n",
       " 7593,\n",
       " 7593,\n",
       " 7593,\n",
       " 7593,\n",
       " 7593,\n",
       " 7593,\n",
       " 7593,\n",
       " 7593,\n",
       " 7593,\n",
       " 7593,\n",
       " 7593,\n",
       " 7593,\n",
       " 7593,\n",
       " 7593,\n",
       " 7593,\n",
       " 7593,\n",
       " 7593,\n",
       " 7593,\n",
       " 7593,\n",
       " 7593,\n",
       " 7593,\n",
       " 7593,\n",
       " 7593,\n",
       " 7593,\n",
       " 7593,\n",
       " 7593,\n",
       " 7593,\n",
       " 7593,\n",
       " 7593,\n",
       " 7593,\n",
       " 7593,\n",
       " 7593,\n",
       " 7593,\n",
       " 7593,\n",
       " 7593,\n",
       " 7593,\n",
       " 7593,\n",
       " 7593,\n",
       " 7593,\n",
       " 7593,\n",
       " 7593,\n",
       " 7593,\n",
       " 7593,\n",
       " 7593,\n",
       " 7593,\n",
       " 7593,\n",
       " 7593,\n",
       " 7593,\n",
       " 7593,\n",
       " 7593,\n",
       " 7593,\n",
       " 7593,\n",
       " 7593,\n",
       " 7593,\n",
       " 7593,\n",
       " 7593,\n",
       " 7593,\n",
       " 7593,\n",
       " 7593,\n",
       " 7593,\n",
       " 7593,\n",
       " 7593,\n",
       " 7593,\n",
       " 7593,\n",
       " 7593,\n",
       " 7593,\n",
       " 7593,\n",
       " 7593,\n",
       " 5739,\n",
       " 6268,\n",
       " 5919,\n",
       " 6007,\n",
       " 6533,\n",
       " 6177,\n",
       " 5669,\n",
       " 6244,\n",
       " 5863,\n",
       " 6002,\n",
       " 6492,\n",
       " 6157,\n",
       " 3580,\n",
       " 5521,\n",
       " 4497,\n",
       " 5711,\n",
       " 6417,\n",
       " 5978,\n",
       " 3481,\n",
       " 5532,\n",
       " 4452,\n",
       " 5715,\n",
       " 6361,\n",
       " 5963,\n",
       " 3334,\n",
       " 5498,\n",
       " 4358,\n",
       " 5703,\n",
       " 6319,\n",
       " 5901,\n",
       " 3200,\n",
       " 5433,\n",
       " 4310,\n",
       " 5699,\n",
       " 6307,\n",
       " 5844,\n",
       " 3138,\n",
       " 5455,\n",
       " 4306,\n",
       " 5693,\n",
       " 6275,\n",
       " 5843,\n",
       " 0,\n",
       " 0]"
      ]
     },
     "execution_count": 13,
     "metadata": {},
     "output_type": "execute_result"
    }
   ],
   "source": [
    "list(cost_df.isnull().sum())"
   ]
  },
  {
   "cell_type": "code",
   "execution_count": 9,
   "metadata": {
    "collapsed": true
   },
   "outputs": [],
   "source": [
    "# 1996-2008 are all Null\n",
    "cost_drop_cols = cost_df.columns[0:78]\n",
    "cost_df.drop(cost_drop_cols, axis=1, inplace=True)"
   ]
  },
  {
   "cell_type": "code",
   "execution_count": 10,
   "metadata": {
    "collapsed": true
   },
   "outputs": [],
   "source": [
    "cost_df.to_csv('../data/cost_df.csv')"
   ]
  },
  {
   "cell_type": "markdown",
   "metadata": {},
   "source": [
    "## Aid Info"
   ]
  },
  {
   "cell_type": "code",
   "execution_count": 23,
   "metadata": {},
   "outputs": [
    {
     "name": "stdout",
     "output_type": "stream",
     "text": [
      "parsing page... 0\n",
      "parsing page... 10\n",
      "parsing page... 20\n",
      "parsing page... 30\n",
      "parsing page... 40\n",
      "parsing page... 50\n",
      "parsing page... 60\n",
      "parsing page... 70\n",
      "parsing page... 80\n",
      "parsing page... 90\n",
      "parsing page... 100\n",
      "parsing page... 110\n",
      "parsing page... 120\n",
      "parsing page... 130\n",
      "parsing page... 140\n",
      "parsing page... 150\n",
      "parsing page... 160\n",
      "parsing page... 170\n",
      "parsing page... 180\n",
      "parsing page... 190\n",
      "parsing page... 200\n",
      "parsing page... 210\n",
      "parsing page... 220\n",
      "parsing page... 230\n",
      "parsing page... 240\n",
      "parsing page... 250\n",
      "parsing page... 260\n",
      "parsing page... 270\n",
      "parsing page... 280\n",
      "parsing page... 290\n",
      "parsing page... 300\n",
      "parsing page... 310\n",
      "parsing page... 320\n",
      "parsing page... 330\n",
      "parsing page... 340\n",
      "parsing page... 350\n",
      "parsing page... 360\n",
      "parsing page... 370\n",
      "parsing page... 380\n"
     ]
    }
   ],
   "source": [
    "aid_df = pd.DataFrame(columns=fields_list5)\n",
    "for page in pages:\n",
    "    if page % 10 == 0:\n",
    "        print('parsing page...', page)\n",
    "    URL = base_url + '_fields=school.name,' + aid_fields + '&' + key + '&' + '_page=' + str(page)\n",
    "    response = requests.get(URL)\n",
    "    json_results = response.json()\n",
    "    this_df = pd.DataFrame(json_results['results'])\n",
    "    aid_df = pd.concat([aid_df,this_df])\n",
    "    time.sleep(1)"
   ]
  },
  {
   "cell_type": "code",
   "execution_count": 25,
   "metadata": {
    "scrolled": true
   },
   "outputs": [
    {
     "data": {
      "text/plain": [
       "1996.aid.cumulative_debt.10th_percentile    7593\n",
       "1996.aid.cumulative_debt.25th_percentile    7593\n",
       "1996.aid.cumulative_debt.75th_percentile    7593\n",
       "1996.aid.cumulative_debt.90th_percentile    7593\n",
       "1996.aid.loan_principal                     7593\n",
       "1996.aid.median_debt.completers.overall     7593\n",
       "1996.aid.median_debt.noncompleters          7593\n",
       "1997.aid.cumulative_debt.10th_percentile    4456\n",
       "1997.aid.cumulative_debt.25th_percentile    3966\n",
       "1997.aid.cumulative_debt.75th_percentile    3966\n",
       "1997.aid.cumulative_debt.90th_percentile    4456\n",
       "1997.aid.loan_principal                     3764\n",
       "1997.aid.median_debt.completers.overall     4672\n",
       "1997.aid.median_debt.noncompleters          4726\n",
       "1998.aid.cumulative_debt.10th_percentile    4349\n",
       "1998.aid.cumulative_debt.25th_percentile    3894\n",
       "1998.aid.cumulative_debt.75th_percentile    3894\n",
       "1998.aid.cumulative_debt.90th_percentile    4349\n",
       "1998.aid.loan_principal                     3745\n",
       "1998.aid.median_debt.completers.overall     4561\n",
       "1998.aid.median_debt.noncompleters          4643\n",
       "1999.aid.cumulative_debt.10th_percentile    4289\n",
       "1999.aid.cumulative_debt.25th_percentile    3847\n",
       "1999.aid.cumulative_debt.75th_percentile    3847\n",
       "1999.aid.cumulative_debt.90th_percentile    4289\n",
       "1999.aid.loan_principal                     3708\n",
       "1999.aid.median_debt.completers.overall     4475\n",
       "1999.aid.median_debt.noncompleters          4520\n",
       "2000.aid.cumulative_debt.10th_percentile    4225\n",
       "2000.aid.cumulative_debt.25th_percentile    3797\n",
       "                                            ... \n",
       "2011.aid.median_debt.noncompleters          2297\n",
       "2012.aid.cumulative_debt.10th_percentile    2158\n",
       "2012.aid.cumulative_debt.25th_percentile    1684\n",
       "2012.aid.cumulative_debt.75th_percentile    1684\n",
       "2012.aid.cumulative_debt.90th_percentile    2158\n",
       "2012.aid.loan_principal                     1534\n",
       "2012.aid.median_debt.completers.overall     1885\n",
       "2012.aid.median_debt.noncompleters          2038\n",
       "2013.aid.cumulative_debt.10th_percentile    2008\n",
       "2013.aid.cumulative_debt.25th_percentile    1525\n",
       "2013.aid.cumulative_debt.75th_percentile    1525\n",
       "2013.aid.cumulative_debt.90th_percentile    2008\n",
       "2013.aid.loan_principal                     1347\n",
       "2013.aid.median_debt.completers.overall     1718\n",
       "2013.aid.median_debt.noncompleters          1901\n",
       "2014.aid.cumulative_debt.10th_percentile    1878\n",
       "2014.aid.cumulative_debt.25th_percentile    1367\n",
       "2014.aid.cumulative_debt.75th_percentile    1367\n",
       "2014.aid.cumulative_debt.90th_percentile    1878\n",
       "2014.aid.loan_principal                     1172\n",
       "2014.aid.median_debt.completers.overall     1570\n",
       "2014.aid.median_debt.noncompleters          1743\n",
       "2015.aid.cumulative_debt.10th_percentile    1778\n",
       "2015.aid.cumulative_debt.25th_percentile    1224\n",
       "2015.aid.cumulative_debt.75th_percentile    1224\n",
       "2015.aid.cumulative_debt.90th_percentile    1778\n",
       "2015.aid.loan_principal                     1020\n",
       "2015.aid.median_debt.completers.overall     1420\n",
       "2015.aid.median_debt.noncompleters          1625\n",
       "school.name                                    0\n",
       "Length: 141, dtype: int64"
      ]
     },
     "execution_count": 25,
     "metadata": {},
     "output_type": "execute_result"
    }
   ],
   "source": [
    "aid_df.isnull().sum()"
   ]
  },
  {
   "cell_type": "code",
   "execution_count": 27,
   "metadata": {
    "collapsed": true
   },
   "outputs": [],
   "source": [
    "# Let's remove 1996 data since it's all null\n",
    "aid_drop_cols = aid_df.columns[0:7]\n",
    "aid_df.drop(aid_drop_cols, axis=1, inplace=True)"
   ]
  },
  {
   "cell_type": "code",
   "execution_count": 28,
   "metadata": {
    "collapsed": true
   },
   "outputs": [],
   "source": [
    "aid_df.to_csv('./aid_df.csv')"
   ]
  },
  {
   "cell_type": "markdown",
   "metadata": {},
   "source": [
    "## Repayment Info"
   ]
  },
  {
   "cell_type": "code",
   "execution_count": 8,
   "metadata": {},
   "outputs": [
    {
     "name": "stdout",
     "output_type": "stream",
     "text": [
      "parsing page... 0\n",
      "parsing page... 10\n",
      "parsing page... 20\n",
      "parsing page... 30\n",
      "parsing page... 40\n",
      "parsing page... 50\n",
      "parsing page... 60\n",
      "parsing page... 70\n",
      "parsing page... 80\n",
      "parsing page... 90\n",
      "parsing page... 100\n",
      "parsing page... 110\n",
      "parsing page... 120\n",
      "parsing page... 130\n",
      "parsing page... 140\n",
      "parsing page... 150\n",
      "parsing page... 160\n",
      "parsing page... 170\n",
      "parsing page... 180\n",
      "parsing page... 190\n",
      "parsing page... 200\n",
      "parsing page... 210\n",
      "parsing page... 220\n",
      "parsing page... 230\n",
      "parsing page... 240\n",
      "parsing page... 250\n",
      "parsing page... 260\n",
      "parsing page... 270\n",
      "parsing page... 280\n",
      "parsing page... 290\n",
      "parsing page... 300\n",
      "parsing page... 310\n",
      "parsing page... 320\n",
      "parsing page... 330\n",
      "parsing page... 340\n",
      "parsing page... 350\n",
      "parsing page... 360\n",
      "parsing page... 370\n",
      "parsing page... 380\n"
     ]
    }
   ],
   "source": [
    "repayment_df = pd.DataFrame(columns=fields_list6)\n",
    "for page in pages:\n",
    "    if page % 10 == 0:\n",
    "        print('parsing page...', page)\n",
    "    URL = base_url + '_fields=school.name,' + repayment_fields + '&' + key + '&' + '_page=' + str(page)\n",
    "    response = requests.get(URL)\n",
    "    json_results = response.json()\n",
    "    this_df = pd.DataFrame(json_results['results'])\n",
    "    repayment_df = pd.concat([repayment_df,this_df])\n",
    "    time.sleep(1)"
   ]
  },
  {
   "cell_type": "code",
   "execution_count": 10,
   "metadata": {
    "scrolled": true
   },
   "outputs": [
    {
     "data": {
      "text/plain": [
       "[7593,\n",
       " 7593,\n",
       " 7593,\n",
       " 7593,\n",
       " 7593,\n",
       " 7593,\n",
       " 7593,\n",
       " 7593,\n",
       " 7593,\n",
       " 7593,\n",
       " 7593,\n",
       " 7593,\n",
       " 7593,\n",
       " 7593,\n",
       " 7593,\n",
       " 7593,\n",
       " 7593,\n",
       " 7593,\n",
       " 7593,\n",
       " 7593,\n",
       " 7593,\n",
       " 7593,\n",
       " 7593,\n",
       " 7593,\n",
       " 7593,\n",
       " 7593,\n",
       " 7593,\n",
       " 7593,\n",
       " 7593,\n",
       " 7593,\n",
       " 7593,\n",
       " 7593,\n",
       " 7593,\n",
       " 7593,\n",
       " 7593,\n",
       " 7593,\n",
       " 7593,\n",
       " 7593,\n",
       " 7593,\n",
       " 7593,\n",
       " 7593,\n",
       " 7593,\n",
       " 7593,\n",
       " 7593,\n",
       " 7593,\n",
       " 7593,\n",
       " 7593,\n",
       " 7593,\n",
       " 7593,\n",
       " 7593,\n",
       " 7593,\n",
       " 7593,\n",
       " 7593,\n",
       " 7593,\n",
       " 7593,\n",
       " 7593,\n",
       " 7593,\n",
       " 7593,\n",
       " 7593,\n",
       " 7593,\n",
       " 7593,\n",
       " 7593,\n",
       " 7593,\n",
       " 7593,\n",
       " 7593,\n",
       " 7593,\n",
       " 7593,\n",
       " 7593,\n",
       " 7593,\n",
       " 7593,\n",
       " 7593,\n",
       " 7593,\n",
       " 7593,\n",
       " 7593,\n",
       " 7593,\n",
       " 7593,\n",
       " 7593,\n",
       " 7593,\n",
       " 3994,\n",
       " 3994,\n",
       " 7593,\n",
       " 7593,\n",
       " 2886,\n",
       " 7593,\n",
       " 3575,\n",
       " 3575,\n",
       " 7593,\n",
       " 7593,\n",
       " 2608,\n",
       " 7593,\n",
       " 3264,\n",
       " 3264,\n",
       " 7593,\n",
       " 7593,\n",
       " 2381,\n",
       " 7593,\n",
       " 3014,\n",
       " 3014,\n",
       " 7593,\n",
       " 7593,\n",
       " 2119,\n",
       " 7593,\n",
       " 2681,\n",
       " 2681,\n",
       " 3390,\n",
       " 3390,\n",
       " 1860,\n",
       " 2278,\n",
       " 2432,\n",
       " 2432,\n",
       " 3133,\n",
       " 3133,\n",
       " 1601,\n",
       " 2131,\n",
       " 2181,\n",
       " 2181,\n",
       " 2860,\n",
       " 2860,\n",
       " 1389,\n",
       " 1939,\n",
       " 0]"
      ]
     },
     "execution_count": 10,
     "metadata": {},
     "output_type": "execute_result"
    }
   ],
   "source": [
    "list(repayment_df.isnull().sum())"
   ]
  },
  {
   "cell_type": "code",
   "execution_count": 13,
   "metadata": {
    "collapsed": true
   },
   "outputs": [],
   "source": [
    "# Let's remove 1996-2008 data since it's all null\n",
    "repayment_drop_cols = repayment_df.columns[0:78]\n",
    "repayment_df.drop(repayment_drop_cols, axis=1, inplace=True)"
   ]
  },
  {
   "cell_type": "code",
   "execution_count": 14,
   "metadata": {
    "collapsed": true
   },
   "outputs": [],
   "source": [
    "repayment_df.to_csv('./repayment_df.csv')"
   ]
  },
  {
   "cell_type": "markdown",
   "metadata": {},
   "source": [
    "## Earnings Info (Come back and try again!)"
   ]
  },
  {
   "cell_type": "code",
   "execution_count": 9,
   "metadata": {},
   "outputs": [
    {
     "name": "stdout",
     "output_type": "stream",
     "text": [
      "parsing page... 0\n",
      "parsing page... 10\n",
      "parsing page... 20\n",
      "parsing page... 30\n",
      "parsing page... 40\n",
      "parsing page... 50\n",
      "parsing page... 60\n",
      "parsing page... 70\n",
      "parsing page... 80\n",
      "parsing page... 90\n",
      "parsing page... 100\n",
      "parsing page... 110\n",
      "parsing page... 120\n",
      "parsing page... 130\n",
      "parsing page... 140\n",
      "parsing page... 150\n",
      "parsing page... 160\n",
      "parsing page... 170\n",
      "parsing page... 180\n",
      "parsing page... 190\n",
      "parsing page... 200\n",
      "parsing page... 210\n",
      "parsing page... 220\n",
      "parsing page... 230\n",
      "parsing page... 240\n",
      "parsing page... 250\n",
      "parsing page... 260\n",
      "parsing page... 270\n",
      "parsing page... 280\n",
      "parsing page... 290\n",
      "parsing page... 300\n",
      "parsing page... 310\n",
      "parsing page... 320\n",
      "parsing page... 330\n",
      "parsing page... 340\n",
      "parsing page... 350\n",
      "parsing page... 360\n",
      "parsing page... 370\n",
      "parsing page... 380\n"
     ]
    }
   ],
   "source": [
    "earnings_df = pd.DataFrame(columns=fields_list7)\n",
    "for page in pages:\n",
    "    if page % 10 == 0:\n",
    "        print('parsing page...', page)\n",
    "    URL = base_url + '_fields=id,school.name,' + earnings_fields + '&' + key + '&' + '_page=' + str(page)\n",
    "    response = requests.get(URL)\n",
    "    json_results = response.json()\n",
    "    this_df = pd.DataFrame(json_results['results'])\n",
    "    earnings_df = pd.concat([earnings_df,this_df])\n",
    "    time.sleep(1)"
   ]
  },
  {
   "cell_type": "code",
   "execution_count": 10,
   "metadata": {},
   "outputs": [
    {
     "data": {
      "text/plain": [
       "[7593,\n",
       " 7593,\n",
       " 7593,\n",
       " 7593,\n",
       " 7593,\n",
       " 7593,\n",
       " 7593,\n",
       " 7593,\n",
       " 7593,\n",
       " 7593,\n",
       " 7593,\n",
       " 7593,\n",
       " 7593,\n",
       " 7593,\n",
       " 7593,\n",
       " 7593,\n",
       " 7593,\n",
       " 7593,\n",
       " 7593,\n",
       " 7593,\n",
       " 7593,\n",
       " 7593,\n",
       " 7593,\n",
       " 7593,\n",
       " 7593,\n",
       " 7593,\n",
       " 7593,\n",
       " 7593,\n",
       " 7593,\n",
       " 7593,\n",
       " 7593,\n",
       " 7593,\n",
       " 7593,\n",
       " 7593,\n",
       " 7593,\n",
       " 7593,\n",
       " 7593,\n",
       " 7593,\n",
       " 7593,\n",
       " 7593,\n",
       " 7593,\n",
       " 7593,\n",
       " 7593,\n",
       " 7593,\n",
       " 7593,\n",
       " 7593,\n",
       " 7593,\n",
       " 7593,\n",
       " 7593,\n",
       " 7593,\n",
       " 7593,\n",
       " 7593,\n",
       " 7593,\n",
       " 7593,\n",
       " 7593,\n",
       " 7593,\n",
       " 7593,\n",
       " 7593,\n",
       " 7593,\n",
       " 7593,\n",
       " 7593,\n",
       " 7593,\n",
       " 7593,\n",
       " 7593,\n",
       " 7593,\n",
       " 7593,\n",
       " 5324,\n",
       " 4930,\n",
       " 5063,\n",
       " 3128,\n",
       " 2715,\n",
       " 3128,\n",
       " 7593,\n",
       " 7593,\n",
       " 7593,\n",
       " 7593,\n",
       " 7593,\n",
       " 7593,\n",
       " 5175,\n",
       " 4484,\n",
       " 4659,\n",
       " 2840,\n",
       " 2385,\n",
       " 2840,\n",
       " 7593,\n",
       " 7593,\n",
       " 7593,\n",
       " 7593,\n",
       " 7593,\n",
       " 7593,\n",
       " 4668,\n",
       " 4459,\n",
       " 4457,\n",
       " 2350,\n",
       " 1917,\n",
       " 2350,\n",
       " 4245,\n",
       " 3169,\n",
       " 4295,\n",
       " 2114,\n",
       " 2635,\n",
       " 2114,\n",
       " 4170,\n",
       " 2949,\n",
       " 4181,\n",
       " 1911,\n",
       " 2444,\n",
       " 1911,\n",
       " 7593,\n",
       " 7593,\n",
       " 7593,\n",
       " 7593,\n",
       " 7593,\n",
       " 7593,\n",
       " 7593,\n",
       " 7593,\n",
       " 7593,\n",
       " 7593,\n",
       " 7593,\n",
       " 7593,\n",
       " 0,\n",
       " 0]"
      ]
     },
     "execution_count": 10,
     "metadata": {},
     "output_type": "execute_result"
    }
   ],
   "source": [
    "list(earnings_df.isnull().sum())"
   ]
  },
  {
   "cell_type": "code",
   "execution_count": 11,
   "metadata": {
    "collapsed": true
   },
   "outputs": [],
   "source": [
    "# 1996-2006 are all Null\n",
    "earnings_drop_cols = earnings_df.columns[0:66]\n",
    "earnings_df.drop(earnings_drop_cols, axis=1, inplace=True)"
   ]
  },
  {
   "cell_type": "code",
   "execution_count": 12,
   "metadata": {
    "collapsed": true
   },
   "outputs": [],
   "source": [
    "earnings_df.to_csv('../data/earnings_df.csv')"
   ]
  },
  {
   "cell_type": "code",
   "execution_count": null,
   "metadata": {
    "collapsed": true
   },
   "outputs": [],
   "source": []
  }
 ],
 "metadata": {
  "kernelspec": {
   "display_name": "Python [default]",
   "language": "python",
   "name": "python3"
  },
  "language_info": {
   "codemirror_mode": {
    "name": "ipython",
    "version": 3
   },
   "file_extension": ".py",
   "mimetype": "text/x-python",
   "name": "python",
   "nbconvert_exporter": "python",
   "pygments_lexer": "ipython3",
   "version": "3.6.3"
  }
 },
 "nbformat": 4,
 "nbformat_minor": 2
}
